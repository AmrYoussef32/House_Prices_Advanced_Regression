{
 "cells": [
  {
   "cell_type": "markdown",
   "id": "4723c556",
   "metadata": {},
   "source": [
    "# 📌 Problem Definition\n",
    "\n",
    "### 🎯 Objective\n",
    "Explain the business and ML objective in detail.\n",
    "\n",
    "---\n",
    "\n",
    "### 📊 Evaluation Metric: RMSLE\n",
    "Explain why RMSLE is used, show the formula, maybe even a visual comparison with RMSE.\n",
    "\n",
    "---\n",
    "\n",
    "### 🔍 Data Description\n",
    "Show sample rows, datatypes, and categorize features.\n",
    "\n",
    "---\n",
    "\n",
    "### 🧠 Potential Challenges\n",
    "| Challenge | Strategy |\n",
    "|----------|----------|\n",
    "| Missing values | Median/mode/domain-based imputation |\n",
    "| Skewed features | Log-transform |\n",
    "| Ordinal categoricals | Label Encoding |\n",
    "| Nominal categoricals | One-hot Encoding |\n",
    "| Multicollinearity | Use Lasso / ElasticNet |\n",
    "| Overfitting | CV + Regularization |\n",
    "\n",
    "---\n",
    "\n",
    "### 🛠️ Tools Stack\n",
    "List all libraries you'll use and why (educational tone)\n",
    "\n",
    "---\n",
    "\n",
    "### 📦 Workflow Summary\n",
    "Insert a visual like this (you can draw or use a placeholder):\n"
   ]
  }
 ],
 "metadata": {
  "language_info": {
   "name": "python"
  }
 },
 "nbformat": 4,
 "nbformat_minor": 5
}
